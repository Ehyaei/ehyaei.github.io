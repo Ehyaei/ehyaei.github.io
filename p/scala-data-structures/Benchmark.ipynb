{
 "cells": [
  {
   "cell_type": "code",
   "execution_count": 80,
   "id": "31775f62",
   "metadata": {},
   "outputs": [
    {
     "data": {
      "text/plain": [
       "import org.apache.spark.sql._\n",
       "import org.apache.spark.sql.functions.col\n",
       "import org.apache.spark.util.SizeEstimator.estimate\n",
       "import scala.collection.AbstractSeq\n",
       "import scala.collection.mutable\n",
       "import scala.collection.mutable.{ArrayBuffer, ListBuffer}\n",
       "import spark.implicits._\n"
      ]
     },
     "execution_count": 80,
     "metadata": {},
     "output_type": "execute_result"
    }
   ],
   "source": [
    "import org.apache.spark.sql._\n",
    "import org.apache.spark.sql.functions.col\n",
    "import org.apache.spark.util.SizeEstimator.estimate\n",
    "import scala.collection.AbstractSeq\n",
    "import scala.collection.mutable\n",
    "import scala.collection.mutable.{ArrayBuffer, ListBuffer}\n",
    "import spark.implicits._"
   ]
  },
  {
   "cell_type": "code",
   "execution_count": 78,
   "id": "278f6697",
   "metadata": {},
   "outputs": [
    {
     "data": {
      "text/plain": [
       "TimeElapsing: (benchmarkFunction: => Unit, message: Boolean)(times: Int)Double\n"
      ]
     },
     "execution_count": 78,
     "metadata": {},
     "output_type": "execute_result"
    }
   ],
   "source": [
    "def TimeElapsing(benchmarkFunction: => Unit, message:Boolean = false)(times:Int = 1): Double = {\n",
    "    if(message) println(\"Benchmark: IS Starting ...\")\n",
    "    val startTime = System.nanoTime()\n",
    "    for (_ <- 0 until times)\n",
    "      benchmarkFunction\n",
    "    val endTime = System.nanoTime()\n",
    "    val timeElapsed = (endTime - startTime).toDouble / times.toDouble\n",
    "    if(message) println(s\"Operation Took $timeElapsed ms on average\")\n",
    "    timeElapsed\n",
    "}"
   ]
  },
  {
   "cell_type": "code",
   "execution_count": 55,
   "id": "9679601b",
   "metadata": {},
   "outputs": [
    {
     "data": {
      "text/plain": [
       "<console>:53: warning: unreachable code\n",
       "           case x:mutable.Queue[Int] => timeElapsing(x.updated(m,0))(n)\n",
       "                                                                    ^\n",
       "insertTime: (x: scala.collection.AbstractSeq[Int], n: Int, m: Int)Double\n",
       "benchmarkSeq: (x: scala.collection.AbstractSeq[Int], n: Int, m: Int)Map[String,Double]\n",
       "benchmarkString: (x: String, n: Int, m: Int)Map[String,Double]\n",
       "benchmarkStringBuilder: (x: StringBuilder, n: Int, m: Int)Map[String,Double]\n",
       "benchmarkArray: (x: Array[Int], n: Int, m: Int)Map[String,Double]\n",
       "benchmarkArrayBoxed: (x: Array[Object], n: Int, m: Int)Map[String,Double]\n"
      ]
     },
     "execution_count": 55,
     "metadata": {},
     "output_type": "execute_result"
    }
   ],
   "source": [
    "  def insertTime(x:AbstractSeq[Int], n:Int, m:Int):Double = x match {\n",
    "    case x:ArrayBuffer[Int] => timeElapsing(x.updated(m,0))(n)\n",
    "    case x:ListBuffer[Int] => timeElapsing(x.updated(m,0))(n)\n",
    "    case x:mutable.MutableList[Int] => timeElapsing(x.updated(m,0))(n)\n",
    "    case x:mutable.Queue[Int] => timeElapsing(x.updated(m,0))(n)\n",
    "    case x:mutable.ArrayStack[Int] => timeElapsing(x.updated(m,0))(n)\n",
    "    case _ => -1\n",
    "  }\n",
    "\n",
    "  def benchmarkSeq(x:AbstractSeq[Int], n:Int, m:Int): Map[String, Double] = {\n",
    "    Map(\n",
    "      \"volume\" -> estimate(x),\n",
    "      \"head\" -> timeElapsing(x.head)(n),\n",
    "      \"tail\" -> timeElapsing(x.tail)(n),\n",
    "      \"apply\" -> timeElapsing(x.apply(m))(n),\n",
    "      \"update\" -> timeElapsing(x.updated(m,0))(n),\n",
    "      \"prepend\" -> timeElapsing(0+:x)(n),\n",
    "      \"append\" -> timeElapsing(x:+0)(n),\n",
    "      \"insert\" -> insertTime(x, n, m)\n",
    "    )\n",
    "  }\n",
    "\n",
    "  def benchmarkString(x:String, n:Int, m:Int): Map[String, Double] = {\n",
    "    Map(\n",
    "      \"volume\" -> estimate(x),\n",
    "      \"head\" -> timeElapsing(x.head)(n),\n",
    "      \"tail\" -> timeElapsing(x.tail)(n),\n",
    "      \"apply\" -> timeElapsing(x.apply(m))(n),\n",
    "      \"update\" -> timeElapsing(x.updated(m,0))(n),\n",
    "      \"prepend\" -> timeElapsing(\"0\"+x)(n),\n",
    "      \"append\" -> timeElapsing(x+\"0\")(n),\n",
    "      \"insert\" -> -1\n",
    "    )\n",
    "  }\n",
    "\n",
    "  def benchmarkStringBuilder(x:StringBuilder, n:Int, m:Int): Map[String, Double] = {\n",
    "    Map(\n",
    "      \"volume\" -> estimate(x),\n",
    "      \"head\" -> timeElapsing(x.head)(n),\n",
    "      \"tail\" -> timeElapsing(x.tail)(n),\n",
    "      \"apply\" -> timeElapsing(x.apply(m))(n),\n",
    "      \"update\" -> timeElapsing(x.updated(m,0))(n),\n",
    "      \"prepend\" -> timeElapsing(\"0\"+x)(n),\n",
    "      \"append\" -> timeElapsing(x+\"0\")(n),\n",
    "      \"insert\" -> timeElapsing(x.updated(m,0))(n)\n",
    "    )\n",
    "  }\n",
    "\n",
    "  def benchmarkArray(x:Array[Int], n:Int, m:Int): Map[String, Double] =  { Map(\n",
    "      \"volume\" -> estimate(x),\n",
    "      \"head\" -> timeElapsing(x.head)(n),\n",
    "      \"tail\" -> timeElapsing(x.tail)(n),\n",
    "      \"apply\" -> timeElapsing(x.apply(m))(n),\n",
    "      \"update\" -> timeElapsing(x.updated(m,0))(n),\n",
    "      \"prepend\" -> timeElapsing(0+:x)(n),\n",
    "      \"append\" -> timeElapsing(x:+0)(n),\n",
    "      \"insert\" -> timeElapsing(x.updated(m,0))(n))\n",
    "}\n",
    "val obj = new Object()\n",
    "  def benchmarkArrayBoxed(x:Array[Object], n:Int, m:Int): Map[String, Double] =  { Map(\n",
    "      \"volume\" -> estimate(x),\n",
    "      \"head\" -> timeElapsing(x.head)(n),\n",
    "      \"tail\" -> timeElapsing(x.tail)(n),\n",
    "      \"apply\" -> timeElapsing(x.apply(m))(n),\n",
    "      \"update\" -> timeElapsing(x.updated(m,0))(n),\n",
    "      \"prepend\" -> timeElapsing(obj+:x)(n),\n",
    "      \"append\" -> timeElapsing(x:+obj)(n),\n",
    "      \"insert\" -> timeElapsing(x.updated(m,0))(n))\n",
    "}"
   ]
  },
  {
   "cell_type": "code",
   "execution_count": 6,
   "id": "7da6ab22",
   "metadata": {},
   "outputs": [
    {
     "data": {
      "text/plain": [
       "sizes: scala.collection.immutable.IndexedSeq[Int] = Vector(1, 10, 100, 1000)\n"
      ]
     },
     "execution_count": 6,
     "metadata": {},
     "output_type": "execute_result"
    }
   ],
   "source": [
    "val sizes = (0 to 3).map(x => math.pow(10, x).toInt)"
   ]
  },
  {
   "cell_type": "code",
   "execution_count": 72,
   "id": "6ad28c01",
   "metadata": {},
   "outputs": [
    {
     "data": {
      "text/plain": [
       "<console>:83: warning: non-variable type argument Int in type pattern scala.collection.AbstractSeq[Int] is unchecked since it is eliminated by erasure\n",
       "           case (c, cl: AbstractSeq[Int]) =>  Map(\"size\" -> s.toString, \"collection\" -> c) ++ benchmarkSeq(cl,100,s-1).map(x=> (x._1,x._2.toString))\n",
       "                        ^\n",
       "<console>:87: warning: unreachable code\n",
       "           case (c, cl: StringBuilder) => Map(\"size\" -> s.toString, \"collection\" -> c) ++ benchmarkStringBuilder(cl,100,s-1).map(x=> (x._1,x._2.toString))\n",
       "                                                                                       ^\n",
       "<console>:82: warning: match may not be exhaustive.\n",
       "It would fail on the following input: (_, _)\n",
       "       ).map(x=> x match{\n",
       "                 ^\n",
       "obj: Object = java.lang.Object@64199285\n",
       "s: Int = 1000\n",
       "stats: scala.collection.immutable.IndexedSeq[List[scala.collection.immutable.Map[String,String]]] = Vector(List(Map(collection -> Immutable_List, prepend -> 19.82, size -> 1, insert -> -1.0, head -> 22.98, tail -> 23.54, apply -> 17.72, update -> 283.53, volume -> 56.0, append -> 555.87), Map(collection -> Immutable_Stream, prepend -> 98.12, size -> 1, insert -> -1.0, head -> 19.22, tail -> 37.43, apply -> 35.32, update -> 733.58, volume -> 120.0, append -> 1043.34), Map(collection -> Immutable_Vector, prepend -> 704.05, size -> 1, insert -> -1.0, head -> 90.52, tail -> 74.93, apply -> 48.77, update -> 218.7, volume -> 216.0, append -> 215.66), Map(collection -> Immutable_Queue, prepend -> 153.66, size -> 1, insert -> -1.0, head -> 6...\n"
      ]
     },
     "execution_count": 72,
     "metadata": {},
     "output_type": "execute_result"
    }
   ],
   "source": [
    "val stats = for(s <- sizes) yield {\n",
    "val integers = 0 until s\n",
    "List(\n",
    "      (\"Immutable_List\", integers.toList),\n",
    "      (\"Immutable_Stream\", integers.toStream),\n",
    "      (\"Immutable_Vector\", integers.toVector),\n",
    "      (\"Immutable_Queue\", scala.collection.immutable.Queue(integers: _*)),\n",
    "      (\"Immutable_Range\", integers),\n",
    "      (\"Immutable_String\", \"1\" * s),\n",
    "      (\"Mutable_ArrayBuffer\", scala.collection.mutable.ArrayBuffer(integers: _*)),\n",
    "      (\"Mutable_ListBuffer\", scala.collection.mutable.ListBuffer(integers: _*)),\n",
    "      (\"Mutable_StringBuilder\", new scala.collection.mutable.StringBuilder(\"1\" * s)),\n",
    "      (\"Mutable_MutableList\", scala.collection.mutable.MutableList(integers: _*)),\n",
    "      (\"Mutable_Queue\", scala.collection.mutable.Queue(integers: _*)),\n",
    "      (\"Mutable_ArraySeq\", scala.collection.mutable.ArraySeq(integers: _*)),\n",
    "      (\"Mutable_ArrayStack\", scala.collection.mutable.ArrayStack(integers: _*)),\n",
    "      (\"Mutable_Array\", integers.toArray),\n",
    "         (\"Mutable_Boxed_Array\",  {\n",
    "       val boxedArray = new Array[Object](s)\n",
    "       var i = 0\n",
    "       while(i<s){boxedArray(i) = obj; i+=1}\n",
    "       boxedArray\n",
    "     })\n",
    "\n",
    ").map(x=> x match{\n",
    "    case (c, cl: AbstractSeq[Int]) =>  Map(\"size\" -> s.toString, \"collection\" -> c) ++ benchmarkSeq(cl,100,s-1).map(x=> (x._1,x._2.toString))\n",
    "    case (c, cl: Array[Object]) => Map(\"size\" -> s.toString, \"collection\" -> c) ++ benchmarkArrayBoxed(cl,100,s-1).map(x=> (x._1,x._2.toString))    \n",
    "    case (c, cl: Array[Int]) => Map(\"size\" -> s.toString, \"collection\" -> c) ++ benchmarkArray(cl,100,s-1).map(x=> (x._1,x._2.toString))\n",
    "    case (c, cl: String) => Map(\"size\" -> s.toString, \"collection\" -> c) ++ benchmarkString(cl,100,s-1).map(x=> (x._1,x._2.toString))\n",
    "    case (c, cl: StringBuilder) => Map(\"size\" -> s.toString, \"collection\" -> c) ++ benchmarkStringBuilder(cl,100,s-1).map(x=> (x._1,x._2.toString))\n",
    "})\n",
    "}"
   ]
  },
  {
   "cell_type": "code",
   "execution_count": 75,
   "id": "22c6be4f",
   "metadata": {},
   "outputs": [
    {
     "data": {
      "text/plain": [
       "colNames: List[org.apache.spark.sql.Column] = List(value[0] AS `append`, value[1] AS `apply`, value[2] AS `collection`, value[3] AS `head`, value[4] AS `insert`, value[5] AS `prepend`, value[6] AS `size`, value[7] AS `tail`, value[8] AS `update`, value[9] AS `volume`)\n"
      ]
     },
     "execution_count": 75,
     "metadata": {},
     "output_type": "execute_result"
    }
   ],
   "source": [
    "  val colNames = stats(0).head.toList.sortBy(_._1).map(_._1)\n",
    "    .zipWithIndex.map(x => col(\"value\")(x._2).as(x._1))\n",
    "\n",
    "  stats.flatten.map(x => x.toList.sortBy(_._1).map(_._2))\n",
    "    .toDF.select(colNames:_*)\n",
    "    .coalesce(1).write.option(\"header\",\"true\").mode(\"overwrite\")\n",
    "    .csv(\"./collection_size_benchmark.csv\")"
   ]
  },
  {
   "cell_type": "code",
   "execution_count": null,
   "id": "9e6e24d0",
   "metadata": {},
   "outputs": [],
   "source": []
  },
  {
   "cell_type": "code",
   "execution_count": null,
   "id": "1cdea013",
   "metadata": {},
   "outputs": [],
   "source": []
  },
  {
   "cell_type": "code",
   "execution_count": 1,
   "id": "9fd9ae05",
   "metadata": {},
   "outputs": [
    {
     "data": {
      "text/plain": [
       "Intitializing Scala interpreter ..."
      ]
     },
     "metadata": {},
     "output_type": "display_data"
    },
    {
     "data": {
      "text/plain": [
       "Spark Web UI available at http://pc:4040\n",
       "SparkContext available as 'sc' (version = 3.1.2, master = local[*], app id = local-1642580478209)\n",
       "SparkSession available as 'spark'\n"
      ]
     },
     "metadata": {},
     "output_type": "display_data"
    },
    {
     "data": {
      "text/plain": [
       "integers: scala.collection.immutable.Range.Inclusive = Range 1 to 10\n"
      ]
     },
     "execution_count": 1,
     "metadata": {},
     "output_type": "execute_result"
    }
   ],
   "source": [
    "val integers = 1 to 10"
   ]
  },
  {
   "cell_type": "code",
   "execution_count": 6,
   "id": "7e28eab0",
   "metadata": {},
   "outputs": [
    {
     "data": {
      "text/plain": [
       "res4: scala.collection.mutable.HashMap[Int,Int] = Map(8 -> 7, 2 -> 1, 5 -> 4, 4 -> 3, 7 -> 6, 10 -> 9, 1 -> 0, 9 -> 8, 3 -> 2, 6 -> 5)\n"
      ]
     },
     "execution_count": 6,
     "metadata": {},
     "output_type": "execute_result"
    }
   ],
   "source": [
    "scala.collection.mutable.HashMap(integers.zipWithIndex:_*)"
   ]
  },
  {
   "cell_type": "code",
   "execution_count": 7,
   "id": "4d66e971",
   "metadata": {},
   "outputs": [
    {
     "data": {
      "text/plain": [
       "res5: scala.collection.mutable.HashSet[Int] = Set(9, 1, 5, 2, 6, 3, 10, 7, 4, 8)\n"
      ]
     },
     "execution_count": 7,
     "metadata": {},
     "output_type": "execute_result"
    }
   ],
   "source": [
    "scala.collection.mutable.HashSet(integers:_*)"
   ]
  },
  {
   "cell_type": "code",
   "execution_count": 8,
   "id": "3377736a",
   "metadata": {},
   "outputs": [
    {
     "data": {
      "text/plain": [
       "res6: scala.collection.immutable.TreeSet[Int] = TreeSet(1, 2, 3, 4, 5, 6, 7, 8, 9, 10)\n"
      ]
     },
     "execution_count": 8,
     "metadata": {},
     "output_type": "execute_result"
    }
   ],
   "source": [
    "scala.collection.immutable.TreeSet(integers:_*)"
   ]
  },
  {
   "cell_type": "code",
   "execution_count": 9,
   "id": "92c4ae42",
   "metadata": {},
   "outputs": [
    {
     "data": {
      "text/plain": [
       "res7: scala.collection.mutable.TreeSet[Int] = TreeSet(1, 2, 3, 4, 5, 6, 7, 8, 9, 10)\n"
      ]
     },
     "execution_count": 9,
     "metadata": {},
     "output_type": "execute_result"
    }
   ],
   "source": [
    "scala.collection.mutable.TreeSet(integers:_*)"
   ]
  },
  {
   "cell_type": "code",
   "execution_count": 66,
   "id": "25e8cf2c",
   "metadata": {},
   "outputs": [
    {
     "data": {
      "text/plain": [
       "integers: scala.collection.immutable.Range = Range 0 until 10\n",
       "mapData: List[(String, scala.collection.Map[Int,Int])] = List((Immutable_HashMap,Map(0 -> 0, 5 -> 5, 1 -> 1, 6 -> 6, 9 -> 9, 2 -> 2, 7 -> 7, 3 -> 3, 8 -> 8, 4 -> 4)), (Immutable_TreeMap,Map(0 -> 0, 1 -> 1, 2 -> 2, 3 -> 3, 4 -> 4, 5 -> 5, 6 -> 6, 7 -> 7, 8 -> 8, 9 -> 9)), (Immutable_ListMap,ListMap(0 -> 0, 1 -> 1, 2 -> 2, 3 -> 3, 4 -> 4, 5 -> 5, 6 -> 6, 7 -> 7, 8 -> 8, 9 -> 9)), (Mutable_HashMap,Map(8 -> 8, 2 -> 2, 5 -> 5, 4 -> 4, 7 -> 7, 1 -> 1, 9 -> 9, 3 -> 3, 6 -> 6, 0 -> 0)), (Mutable_WeakHashMap,Map(9 -> 9, 8 -> 8, 7 -> 7, 6 -> 6, 5 -> 5, 4 -> 4, 3 -> 3, 2 -> 2, 1 -> 1, 0 -> 0)))\n",
       "setData: List[(String, scala.collection.Set[Int])] = List((Immutable_HashSet,Set(0, 5, 1, 6, 9, 2, 7, 3, 8, 4)), (Immutable_TreeSet,TreeSet(0, 1...\n"
      ]
     },
     "execution_count": 66,
     "metadata": {},
     "output_type": "execute_result"
    }
   ],
   "source": [
    "val integers = 0 until 10\n",
    "\n",
    "val setData = List(\n",
    "  (\"Immutable_HashSet\", integers.toSet),\n",
    "  (\"Immutable_TreeSet\", scala.collection.immutable.TreeSet(integers:_*)),\n",
    "  (\"Immutable_BitSet\", scala.collection.immutable.BitSet(integers:_*)),\n",
    "  (\"Mutable_HashSet\", scala.collection.mutable.HashSet(integers:_*)),\n",
    "  (\"Mutable_BitSet\", scala.collection.mutable.BitSet(integers:_*)),\n",
    "  (\"Mutable_TreeSet\", scala.collection.mutable.TreeSet(integers:_*))\n",
    ")"
   ]
  },
  {
   "cell_type": "code",
   "execution_count": 85,
   "id": "cef525b8",
   "metadata": {},
   "outputs": [
    {
     "data": {
      "text/plain": [
       "benchmarkMap: (x: scala.collection.Map[Int,Int], n: Int, m: Int)Map[String,Double]\n"
      ]
     },
     "execution_count": 85,
     "metadata": {},
     "output_type": "execute_result"
    }
   ],
   "source": [
    "def benchmarkMap(x:scala.collection.Map[Int,Int], n:Int, m:Int): Map[String, Double] = {\n",
    "Map(\n",
    "  \"volume\" -> estimate(x),\n",
    "  \"lookup\" -> TimeElapsing(x.get(m))(n),\n",
    "  \"add\" -> TimeElapsing(x ++ Map((m,m)))(n),\n",
    "  \"remove\" -> TimeElapsing(x-0)(n),\n",
    "  \"min\" -> TimeElapsing(x.minBy(_._2)._1)(n)\n",
    ")\n",
    "}\n"
   ]
  },
  {
   "cell_type": "code",
   "execution_count": null,
   "id": "8ae01d30",
   "metadata": {},
   "outputs": [],
   "source": []
  },
  {
   "cell_type": "code",
   "execution_count": 86,
   "id": "a8e76d88",
   "metadata": {},
   "outputs": [
    {
     "data": {
      "text/plain": [
       "res62: List[Map[String,Double]] = List(Map(lookup -> 8623.91, min -> 20361.98, remove -> 1905.93, add -> 4469.96, volume -> 800.0), Map(lookup -> 1403.39, min -> 8616.06, remove -> 8135.97, add -> 12646.31, volume -> 520.0), Map(lookup -> 2252.95, min -> 5972.79, remove -> 6155.64, add -> 19913.7, volume -> 416.0), Map(lookup -> 827.29, min -> 4900.1, remove -> 8279.22, add -> 19226.81, volume -> 520.0), Map(lookup -> 1441.47, min -> 14441.93, remove -> 23187.98, add -> 37944.69, volume -> 864.0))\n"
      ]
     },
     "execution_count": 86,
     "metadata": {},
     "output_type": "execute_result"
    }
   ],
   "source": [
    "mapData.map(x => benchmarkMap(x._2,100,0))"
   ]
  },
  {
   "cell_type": "code",
   "execution_count": 49,
   "id": "f64bccc4",
   "metadata": {},
   "outputs": [
    {
     "data": {
      "text/plain": [
       "res41: List[String] = List(a, a)\n"
      ]
     },
     "execution_count": 49,
     "metadata": {},
     "output_type": "execute_result"
    }
   ],
   "source": [
    "a.map(x => x match {\n",
    "    case x:scala.collection.immutable.Map[Int,Int] => \"a\"\n",
    "    case _ => \"b\"\n",
    "})"
   ]
  },
  {
   "cell_type": "code",
   "execution_count": 38,
   "id": "6306110a",
   "metadata": {},
   "outputs": [
    {
     "data": {
      "text/plain": [
       "res34: scala.collection.immutable.Map[Int,Int] = Map(0 -> 0, 5 -> 5, 1 -> 1, 6 -> 6, 9 -> 9, 2 -> 2, 7 -> 7, 3 -> 3, 8 -> 8, 4 -> 4)\n"
      ]
     },
     "execution_count": 38,
     "metadata": {},
     "output_type": "execute_result"
    }
   ],
   "source": [
    "integers.zipWithIndex.toMap"
   ]
  },
  {
   "cell_type": "code",
   "execution_count": 87,
   "id": "a4275df0",
   "metadata": {},
   "outputs": [
    {
     "data": {
      "text/plain": [
       "benchmarkSet: (x: scala.collection.Set[Int], n: Int, m: Int)Map[String,Double]\n"
      ]
     },
     "execution_count": 87,
     "metadata": {},
     "output_type": "execute_result"
    }
   ],
   "source": [
    "def benchmarkSet(x:scala.collection.Set[Int], n:Int, m:Int): Map[String, Double] = {\n",
    "Map(\n",
    "  \"volume\" -> estimate(x),\n",
    "  \"lookup\" -> TimeElapsing(x.contains(m))(n),\n",
    "  \"add\" -> TimeElapsing(x ++ Map((m,m)))(n),\n",
    "  \"remove\" -> TimeElapsing(x-0)(n),\n",
    "  \"min\" -> TimeElapsing(x.min)(n)\n",
    ")\n",
    "}\n"
   ]
  },
  {
   "cell_type": "code",
   "execution_count": 89,
   "id": "a99d4c2c",
   "metadata": {},
   "outputs": [
    {
     "data": {
      "text/plain": [
       "s: Int = 10\n",
       "res64: List[scala.collection.immutable.Map[String,String]] = List(Map(lookup -> 994.78, collection -> Immutable_HashSet, size -> 10, min -> 37298.86, remove -> 874.64, add -> 6935.41, volume -> 480.0), Map(lookup -> 1316.71, collection -> Immutable_TreeSet, size -> 10, min -> 2727.17, remove -> 5584.12, add -> 9209.83, volume -> 536.0), Map(lookup -> 413.83, collection -> Immutable_BitSet, size -> 10, min -> 23537.52, remove -> 1094.3, add -> 9511.25, volume -> 24.0), Map(lookup -> 362.25, collection -> Mutable_HashSet, size -> 10, min -> 6967.31, remove -> 9045.38, add -> 12348.32, volume -> 344.0), Map(lookup -> 501.97, collection -> Mutable_BitSet, size -> 10, min -> 22165.94, remove -> 4967.33, add -> 39198.21, volume -> 40.0), Map(lookup -> 1547.13, collection -> Mutabl...\n"
      ]
     },
     "execution_count": 89,
     "metadata": {},
     "output_type": "execute_result"
    }
   ],
   "source": [
    "val s = 10\n",
    "List(\n",
    "      (\"Immutable_HashSet\", integers.toSet),\n",
    "      (\"Immutable_TreeSet\", scala.collection.immutable.TreeSet(integers:_*)),\n",
    "      (\"Immutable_BitSet\", scala.collection.immutable.BitSet(integers:_*)),\n",
    "      (\"Mutable_HashSet\", scala.collection.mutable.HashSet(integers:_*)),\n",
    "      (\"Mutable_BitSet\", scala.collection.mutable.BitSet(integers:_*)),\n",
    "      (\"Mutable_TreeSet\", scala.collection.mutable.TreeSet(integers:_*))\n",
    "    ).map(x => {\n",
    "      Map(\"size\" -> s.toString, \"collection\" -> x._1) ++ benchmarkSet(x._2, 100, s).map(x => (x._1, x._2.toString))\n",
    "    })"
   ]
  },
  {
   "cell_type": "code",
   "execution_count": null,
   "id": "28a049c8",
   "metadata": {},
   "outputs": [],
   "source": []
  }
 ],
 "metadata": {
  "kernelspec": {
   "display_name": "spylon-kernel",
   "language": "scala",
   "name": "spylon-kernel"
  },
  "language_info": {
   "codemirror_mode": "text/x-scala",
   "file_extension": ".scala",
   "help_links": [
    {
     "text": "MetaKernel Magics",
     "url": "https://metakernel.readthedocs.io/en/latest/source/README.html"
    }
   ],
   "mimetype": "text/x-scala",
   "name": "scala",
   "pygments_lexer": "scala",
   "version": "0.4.1"
  }
 },
 "nbformat": 4,
 "nbformat_minor": 5
}
